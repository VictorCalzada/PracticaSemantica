{
 "cells": [
  {
   "cell_type": "code",
   "execution_count": 27,
   "id": "a0e2e8ae",
   "metadata": {},
   "outputs": [],
   "source": [
    "\n",
    "\n",
    "import re\n",
    "import json\n",
    "import numpy as np\n",
    "\n",
    "\n",
    "__title__ =  \"Script para separar películas\"\n",
    "__author__ = \"Nombre de los integrantes de grupo\"\n",
    "\n",
    "diccionario = dict()\n",
    "\n",
    "def escribir_archivos(fichero):\n",
    "    '''\n",
    "    Método que permite, a partir de un fichero con valoraciones, escribir varios archivos.\n",
    "    '''\n",
    "    with open(fichero,'r') as f:\n",
    "        next(f)\n",
    "        for i, line in enumerate(f):\n",
    "            writeFile(i, line)\n",
    "\n",
    "\n",
    "def writeFile(number, text):\n",
    "    text = re.sub(r'<br\\s*\\/>', ' ', text)\n",
    "    aux = text.split(',')\n",
    "    filename = 'valoraciones/'+str(number)+aux[-1][0:-1]+'.txt'\n",
    "    with open(filename, 'w') as f:\n",
    "        f.write(text)\n",
    "\n",
    "def normalSpliting(fichero):\n",
    "    with open(fichero,'r') as f:\n",
    "        for i, line in enumerate(f):\n",
    "\n",
    "            line = re.sub(r'<\\s*br\\s*\\/\\s*>', ' ', line)\n",
    "            dictionary(i, line)\n",
    "            with open('ficheros/file'+str(i)+'.txt','w') as p:\n",
    "                \n",
    "                p.write(line)\n",
    "\n",
    "    _dictToJson()\n",
    "\n",
    "\n",
    "\n",
    "def dictionary(numero, text):\n",
    "    \n",
    "    palabras = text.split(' ')\n",
    "    palabras = set(palabras)\n",
    "    for palabra in palabras:\n",
    "        if palabra not in diccionario:\n",
    "            diccionario[palabra] = [numero]\n",
    "        else:\n",
    "            diccionario[palabra].append(numero)\n",
    "\n",
    "\n",
    "def _dictToJson(jsonname = \"data.json\"):\n",
    "    \"\"\"\n",
    "    Almacena el contenido de diccionario en un archivo .json\n",
    "    \"\"\"\n",
    "    with open(jsonname, \"w\") as f:\n",
    "        json.dump(diccionario, f)\n",
    "\n",
    "def _jsonToDict(jsonname = \"data.json\"):\n",
    "    \"\"\"\n",
    "    Pasa el contenido de un archivo .json al diccionario\n",
    "    \"\"\"\n",
    "    with open(jsonname, \"r\") as f:\n",
    "        diccionario = json.load(f) \n",
    "    return diccionario\n",
    "\n",
    "    \n",
    "\n",
    "def repList(lista, numero):\n",
    "    elementos = dict()\n",
    "    for elem in lista:\n",
    "        if elem not in elementos:\n",
    "            elementos[elem] = 1\n",
    "        else:\n",
    "            elementos[elem] += 1\n",
    "    listaTextos = []\n",
    "    for val,key in zip(elementos.values(),elementos.keys()):\n",
    "        if val >= numero:\n",
    "            listaTextos.append(key)\n",
    "    return listaTextos\n",
    "\n",
    "\n",
    "\n",
    "def printDict(quieres, noquieres, verbose = True):\n",
    "    listaquieres = []\n",
    "    for palabra in quieres:\n",
    "        listaquieres.extend(diccionario[palabra])\n",
    "    \n",
    "    liq = repList(listaquieres,len(quieres))\n",
    "    \n",
    "    listanoquieres = []\n",
    "    for palabra in noquieres:\n",
    "        listanoquieres.extend(diccionario[palabra])\n",
    "    \n",
    "    linq = repList(listanoquieres,len(noquieres))\n",
    "    \n",
    "    result = [item for item in liq if item not in linq]\n",
    "    \n",
    "    if verbose:\n",
    "        print('-'*75)       \n",
    "        print(f'Aparece en {len(result)}\\nLos textos en los que aparece son:\\n {result}')\n",
    "        print('-'*75+'\\n')\n",
    "    return result\n",
    "\n",
    "\n",
    "def lecturaFilesId(lista, palabras):\n",
    "    cuenta = dict()\n",
    "    for palabra in palabras:\n",
    "        cuenta[palabra] = []\n",
    "    for elem in lista:\n",
    "        with open(\"ficheros/file\"+str(elem)+\".txt\", \"r\") as f:\n",
    "            contenido = f.read()\n",
    "            for palabra in palabras:\n",
    "                val = contenido.count(palabra) \n",
    "                if val != 0:\n",
    "                    peso = 1 + np.log10(val)\n",
    "                else:\n",
    "                    peso = 0\n",
    "                cuenta[palabra].append(peso)\n",
    "           \n",
    "\n",
    "    return cuenta\n",
    "\n",
    "    \n",
    "\n",
    "\n",
    "if __name__ ==  \"__main__\":\n",
    "    #Ejercicio 02\n",
    "    #escribir_archivos(\"IMDB Dataset.csv\")\n",
    "\n",
    "    #Ejercicio 03\n",
    "    #normalSpliting(\"IMDB_raiz.csv\")\n",
    "    diccionario =_jsonToDict()\n",
    "    #palabras = ['prison','brutal']\n",
    "    #palabrano = ['king']\n",
    "    #printDict(palabras, palabrano)\n",
    "\n",
    "    #Ejercicio 04\n",
    "    palabras = ['humor']\n",
    "    palabrano = []\n",
    "    textos = []\n",
    "    textos.extend(printDict(palabras, palabrano, verbose=False))\n",
    "    palabras = ['oscar']\n",
    "    textos.extend(printDict(palabras, palabrano, verbose=False))\n",
    "    textos = set(textos)\n",
    "    cuenta = lecturaFilesId(textos,['humor','oscar'])\n",
    "    #puntuacion = np.dot(np.array(cuenta['humor']),np.array(cuenta['oscar']))\n",
    "    #print(puntuacion)\n",
    "    puntuacion = np.zeros(len(textos))\n",
    "    vectores = np.array(list(cuenta.values()))\n",
    "    consulta = np.array([1,1])\n",
    "    for i in range(len(textos)):\n",
    "        prMod = np.linalg.norm(vectores[:,i])*np.sqrt(2)\n",
    "        puntuacion[i] = np.dot(vectores[:,i],consulta)/prMod\n",
    "    \n",
    "\n"
   ]
  },
  {
   "cell_type": "code",
   "execution_count": 32,
   "id": "6df7f9f9",
   "metadata": {},
   "outputs": [
    {
     "data": {
      "text/plain": [
       "<matplotlib.collections.PathCollection at 0x7fb63de13bb0>"
      ]
     },
     "execution_count": 32,
     "metadata": {},
     "output_type": "execute_result"
    },
    {
     "data": {
      "image/png": "[encoded data removed]",
      "text/plain": [
       "<Figure size 432x288 with 1 Axes>"
      ]
     },
     "metadata": {
      "needs_background": "light"
     },
     "output_type": "display_data"
    }
   ],
   "source": [
    "import matplotlib.pyplot as plt\n",
    "plt.scatter(x = np.arange(len(puntuacion)),y=puntuacion)"
   ]
  },
  {
   "cell_type": "code",
   "execution_count": 23,
   "id": "372ccf1a",
   "metadata": {},
   "outputs": [],
   "source": [
    "consulta = np.array([1,1])"
   ]
  },
  {
   "cell_type": "code",
   "execution_count": 26,
   "id": "756732ef",
   "metadata": {},
   "outputs": [
    {
     "data": {
      "text/plain": [
       "1.4142135623730951"
      ]
     },
     "execution_count": 26,
     "metadata": {},
     "output_type": "execute_result"
    }
   ],
   "source": [
    "np.linalg.norm(consulta)"
   ]
  },
  {
   "cell_type": "code",
   "execution_count": 21,
   "id": "a70e4f74",
   "metadata": {},
   "outputs": [
    {
     "data": {
      "text/plain": [
       "array([[1.     , 1.     , 1.     , ..., 0.     , 0.     , 1.     ],\n",
       "       [0.     , 0.     , 0.     , ..., 1.     , 1.30103, 0.     ]])"
      ]
     },
     "execution_count": 21,
     "metadata": {},
     "output_type": "execute_result"
    }
   ],
   "source": [
    "vectores"
   ]
  },
  {
   "cell_type": "code",
   "execution_count": 22,
   "id": "da242ef5",
   "metadata": {},
   "outputs": [
    {
     "data": {
      "text/plain": [
       "array([0.     , 1.30103])"
      ]
     },
     "execution_count": 22,
     "metadata": {},
     "output_type": "execute_result"
    }
   ],
   "source": [
    "vectores[:,-2]"
   ]
  }
 ],
 "metadata": {
  "kernelspec": {
   "display_name": "Python 3",
   "language": "python",
   "name": "python3"
  },
  "language_info": {
   "codemirror_mode": {
    "name": "ipython",
    "version": 3
   },
   "file_extension": ".py",
   "mimetype": "text/x-python",
   "name": "python",
   "nbconvert_exporter": "python",
   "pygments_lexer": "ipython3",
   "version": "3.9.7"
  }
 },
 "nbformat": 4,
 "nbformat_minor": 5
}
