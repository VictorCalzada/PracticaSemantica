{
 "cells": [
  {
   "cell_type": "code",
   "execution_count": 18,
   "id": "5ac8cba7",
   "metadata": {},
   "outputs": [
    {
     "name": "stdout",
     "output_type": "stream",
     "text": [
      "109.36366105406329\n"
     ]
    }
   ],
   "source": [
    "\n",
    "\n",
    "import re\n",
    "import json\n",
    "import numpy as np\n",
    "\n",
    "\n",
    "__title__ =  \"Script para separar películas\"\n",
    "__author__ = \"Nombre de los integrantes de grupo\"\n",
    "\n",
    "diccionario = dict()\n",
    "\n",
    "def escribir_archivos(fichero):\n",
    "    '''\n",
    "    Método que permite, a partir de un fichero con valoraciones, escribir varios archivos.\n",
    "    '''\n",
    "    with open(fichero,'r') as f:\n",
    "        next(f)\n",
    "        for i, line in enumerate(f):\n",
    "            writeFile(i, line)\n",
    "\n",
    "\n",
    "def writeFile(number, text):\n",
    "    text = re.sub(r'<br\\s*\\/>', ' ', text)\n",
    "    aux = text.split(',')\n",
    "    filename = 'valoraciones/'+str(number)+aux[-1][0:-1]+'.txt'\n",
    "    with open(filename, 'w') as f:\n",
    "        f.write(text)\n",
    "\n",
    "def normalSpliting(fichero):\n",
    "    with open(fichero,'r') as f:\n",
    "        for i, line in enumerate(f):\n",
    "\n",
    "            line = re.sub(r'<\\s*br\\s*\\/\\s*>', ' ', line)\n",
    "            dictionary(i, line)\n",
    "            with open('ficheros/file'+str(i)+'.txt','w') as p:\n",
    "                \n",
    "                p.write(line)\n",
    "\n",
    "    _dictToJson()\n",
    "\n",
    "\n",
    "\n",
    "def dictionary(numero, text):\n",
    "    \n",
    "    palabras = text.split(' ')\n",
    "    palabras = set(palabras)\n",
    "    for palabra in palabras:\n",
    "        if palabra not in diccionario:\n",
    "            diccionario[palabra] = [numero]\n",
    "        else:\n",
    "            diccionario[palabra].append(numero)\n",
    "\n",
    "\n",
    "def _dictToJson(jsonname = \"data.json\"):\n",
    "    \"\"\"\n",
    "    Almacena el contenido de diccionario en un archivo .json\n",
    "    \"\"\"\n",
    "    with open(jsonname, \"w\") as f:\n",
    "        json.dump(diccionario, f)\n",
    "\n",
    "def _jsonToDict(jsonname = \"data.json\"):\n",
    "    \"\"\"\n",
    "    Pasa el contenido de un archivo .json al diccionario\n",
    "    \"\"\"\n",
    "    with open(jsonname, \"r\") as f:\n",
    "        diccionario = json.load(f) \n",
    "    return diccionario\n",
    "\n",
    "    \n",
    "\n",
    "def repList(lista, numero):\n",
    "    elementos = dict()\n",
    "    for elem in lista:\n",
    "        if elem not in elementos:\n",
    "            elementos[elem] = 1\n",
    "        else:\n",
    "            elementos[elem] += 1\n",
    "    listaTextos = []\n",
    "    for val,key in zip(elementos.values(),elementos.keys()):\n",
    "        if val >= numero:\n",
    "            listaTextos.append(key)\n",
    "    return listaTextos\n",
    "\n",
    "\n",
    "\n",
    "def printDict(quieres, noquieres, verbose = True):\n",
    "    listaquieres = []\n",
    "    for palabra in quieres:\n",
    "        listaquieres.extend(diccionario[palabra])\n",
    "    \n",
    "    liq = repList(listaquieres,len(quieres))\n",
    "    \n",
    "    listanoquieres = []\n",
    "    for palabra in noquieres:\n",
    "        listanoquieres.extend(diccionario[palabra])\n",
    "    \n",
    "    linq = repList(listanoquieres,len(noquieres))\n",
    "    \n",
    "    result = [item for item in liq if item not in linq]\n",
    "    \n",
    "    if verbose:\n",
    "        print('-'*75)       \n",
    "        print(f'Aparece en {len(result)}\\nLos textos en los que aparece son:\\n {result}')\n",
    "        print('-'*75+'\\n')\n",
    "    return result\n",
    "\n",
    "\n",
    "def lecturaFilesId(lista, palabras):\n",
    "    cuenta = dict()\n",
    "    for palabra in palabras:\n",
    "        cuenta[palabra] = []\n",
    "    for elem in lista:\n",
    "        with open(\"ficheros/file\"+str(elem)+\".txt\", \"r\") as f:\n",
    "            contenido = f.read()\n",
    "            for palabra in palabras:\n",
    "                val = contenido.count(palabra) \n",
    "                if val != 0:\n",
    "                    peso = 1 + np.log10(val)\n",
    "                else:\n",
    "                    peso = 0\n",
    "                cuenta[palabra].append(peso)\n",
    "           \n",
    "\n",
    "    return cuenta\n",
    "\n",
    "    \n",
    "\n",
    "\n",
    "if __name__ ==  \"__main__\":\n",
    "    #Ejercicio 02\n",
    "    #escribir_archivos(\"IMDB Dataset.csv\")\n",
    "\n",
    "    #Ejercicio 03\n",
    "    #normalSpliting(\"IMDB_raiz.csv\")\n",
    "    diccionario =_jsonToDict()\n",
    "    #palabras = ['prison','brutal']\n",
    "    #palabrano = ['king']\n",
    "    #printDict(palabras, palabrano)\n",
    "\n",
    "    #Ejercicio 04\n",
    "    palabras = ['humor']\n",
    "    palabrano = []\n",
    "    textos = []\n",
    "    textos.extend(printDict(palabras, palabrano, verbose=False))\n",
    "    palabras = ['oscar']\n",
    "    textos.extend(printDict(palabras, palabrano, verbose=False))\n",
    "    textos = set(textos)\n",
    "    cuenta = lecturaFilesId(textos,['humor','oscar'])\n",
    "    puntuacion = np.dot(np.array(cuenta['humor']),np.array(cuenta['oscar']))\n",
    "    print(puntuacion)\n",
    "\n",
    "\n"
   ]
  },
  {
   "cell_type": "code",
   "execution_count": 14,
   "id": "8fed1d94",
   "metadata": {},
   "outputs": [],
   "source": [
    "import pandas as pd"
   ]
  },
  {
   "cell_type": "code",
   "execution_count": 19,
   "id": "d288a984",
   "metadata": {},
   "outputs": [],
   "source": [
    "hola = pd.DataFrame(cuenta)"
   ]
  },
  {
   "cell_type": "code",
   "execution_count": 22,
   "id": "4baa3b85",
   "metadata": {},
   "outputs": [
    {
     "data": {
      "text/html": [
       "<div>\n",
       "<style scoped>\n",
       "    .dataframe tbody tr th:only-of-type {\n",
       "        vertical-align: middle;\n",
       "    }\n",
       "\n",
       "    .dataframe tbody tr th {\n",
       "        vertical-align: top;\n",
       "    }\n",
       "\n",
       "    .dataframe thead th {\n",
       "        text-align: right;\n",
       "    }\n",
       "</style>\n",
       "<table border=\"1\" class=\"dataframe\">\n",
       "  <thead>\n",
       "    <tr style=\"text-align: right;\">\n",
       "      <th></th>\n",
       "      <th>humor</th>\n",
       "      <th>oscar</th>\n",
       "    </tr>\n",
       "  </thead>\n",
       "  <tbody>\n",
       "    <tr>\n",
       "      <th>0</th>\n",
       "      <td>1.0</td>\n",
       "      <td>0.00000</td>\n",
       "    </tr>\n",
       "    <tr>\n",
       "      <th>1</th>\n",
       "      <td>1.0</td>\n",
       "      <td>0.00000</td>\n",
       "    </tr>\n",
       "    <tr>\n",
       "      <th>2</th>\n",
       "      <td>1.0</td>\n",
       "      <td>0.00000</td>\n",
       "    </tr>\n",
       "    <tr>\n",
       "      <th>3</th>\n",
       "      <td>1.0</td>\n",
       "      <td>0.00000</td>\n",
       "    </tr>\n",
       "    <tr>\n",
       "      <th>4</th>\n",
       "      <td>0.0</td>\n",
       "      <td>1.00000</td>\n",
       "    </tr>\n",
       "    <tr>\n",
       "      <th>...</th>\n",
       "      <td>...</td>\n",
       "      <td>...</td>\n",
       "    </tr>\n",
       "    <tr>\n",
       "      <th>3771</th>\n",
       "      <td>0.0</td>\n",
       "      <td>1.00000</td>\n",
       "    </tr>\n",
       "    <tr>\n",
       "      <th>3772</th>\n",
       "      <td>1.0</td>\n",
       "      <td>0.00000</td>\n",
       "    </tr>\n",
       "    <tr>\n",
       "      <th>3773</th>\n",
       "      <td>0.0</td>\n",
       "      <td>1.00000</td>\n",
       "    </tr>\n",
       "    <tr>\n",
       "      <th>3774</th>\n",
       "      <td>0.0</td>\n",
       "      <td>1.30103</td>\n",
       "    </tr>\n",
       "    <tr>\n",
       "      <th>3775</th>\n",
       "      <td>1.0</td>\n",
       "      <td>0.00000</td>\n",
       "    </tr>\n",
       "  </tbody>\n",
       "</table>\n",
       "<p>3776 rows × 2 columns</p>\n",
       "</div>"
      ],
      "text/plain": [
       "      humor    oscar\n",
       "0       1.0  0.00000\n",
       "1       1.0  0.00000\n",
       "2       1.0  0.00000\n",
       "3       1.0  0.00000\n",
       "4       0.0  1.00000\n",
       "...     ...      ...\n",
       "3771    0.0  1.00000\n",
       "3772    1.0  0.00000\n",
       "3773    0.0  1.00000\n",
       "3774    0.0  1.30103\n",
       "3775    1.0  0.00000\n",
       "\n",
       "[3776 rows x 2 columns]"
      ]
     },
     "execution_count": 22,
     "metadata": {},
     "output_type": "execute_result"
    }
   ],
   "source": [
    "hola"
   ]
  },
  {
   "cell_type": "code",
   "execution_count": 21,
   "id": "183949d4",
   "metadata": {},
   "outputs": [
    {
     "data": {
      "text/plain": [
       "oscar   \n",
       "0.000000    2527\n",
       "1.000000    1007\n",
       "1.301030     168\n",
       "1.477121      44\n",
       "1.602060      14\n",
       "1.698970      10\n",
       "1.845098       3\n",
       "1.778151       2\n",
       "1.954243       1\n",
       "dtype: int64"
      ]
     },
     "execution_count": 21,
     "metadata": {},
     "output_type": "execute_result"
    }
   ],
   "source": [
    "hola[['oscar']].value_counts()"
   ]
  },
  {
   "cell_type": "code",
   "execution_count": 24,
   "id": "203a0bc4",
   "metadata": {},
   "outputs": [
    {
     "data": {
      "text/plain": [
       "49147"
      ]
     },
     "execution_count": 24,
     "metadata": {},
     "output_type": "execute_result"
    }
   ],
   "source": [
    "list(textos)[-2]"
   ]
  },
  {
   "cell_type": "code",
   "execution_count": 10,
   "id": "07223cbc",
   "metadata": {},
   "outputs": [
    {
     "data": {
      "text/plain": [
       "list"
      ]
     },
     "execution_count": 10,
     "metadata": {},
     "output_type": "execute_result"
    }
   ],
   "source": [
    "type(textos)"
   ]
  }
 ],
 "metadata": {
  "kernelspec": {
   "display_name": "Python 3",
   "language": "python",
   "name": "python3"
  },
  "language_info": {
   "codemirror_mode": {
    "name": "ipython",
    "version": 3
   },
   "file_extension": ".py",
   "mimetype": "text/x-python",
   "name": "python",
   "nbconvert_exporter": "python",
   "pygments_lexer": "ipython3",
   "version": "3.9.7"
  }
 },
 "nbformat": 4,
 "nbformat_minor": 5
}
